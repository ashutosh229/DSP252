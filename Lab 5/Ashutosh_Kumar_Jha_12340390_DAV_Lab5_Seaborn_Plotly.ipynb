{
  "cells": [
    {
      "cell_type": "markdown",
      "metadata": {
        "id": "zOa47sj5GFI5"
      },
      "source": [
        "# **Seaborn**\n",
        "\n",
        "\n",
        "*   A Python library built on top of Matplotlib for creating visually appealing statistical graphics.\n",
        "* Best for creating heatmaps, violin plots, pair plots, and categorical plots (like bar, box, and strip plots).\n",
        "*   It simplifies complex visualization tasks with high-level functions\n",
        "\n"
      ]
    },
    {
      "cell_type": "markdown",
      "metadata": {
        "id": "-FiZPCtWH6-2"
      },
      "source": [
        "**Importing Seaborn and Dataset**"
      ]
    },
    {
      "cell_type": "code",
      "execution_count": null,
      "metadata": {
        "colab": {
          "base_uri": "https://localhost:8080/"
        },
        "id": "-KCpffC5H9ce",
        "outputId": "c6bb177e-43f5-4f9b-fe27-800910447d96"
      },
      "outputs": [
        {
          "ename": "",
          "evalue": "",
          "output_type": "error",
          "traceback": [
            "\u001b[1;31mFailed to start the Kernel. \n",
            "\u001b[1;31mView Jupyter <a href='command:jupyter.viewOutput'>log</a> for further details."
          ]
        }
      ],
      "source": [
        "import seaborn as sns\n",
        "import matplotlib.pyplot as plt\n",
        "\n",
        "# Load an example dataset\n",
        "tips = sns.load_dataset(\"tips\")\n",
        "print(tips.head())\n"
      ]
    },
    {
      "cell_type": "markdown",
      "metadata": {
        "id": "lLE6PwcaIHH_"
      },
      "source": [
        "**Bar Plot**\n",
        "\n",
        "What: A bar plot is used to show the distribution of categorical data with rectangular bars where the length represents the value.\n",
        "\n",
        "Why: Use it when you want to compare quantities across categories (e.g., total bill across different days)."
      ]
    },
    {
      "cell_type": "code",
      "execution_count": null,
      "metadata": {
        "colab": {
          "base_uri": "https://localhost:8080/",
          "height": 472
        },
        "id": "Ko2Rk94yIEZC",
        "outputId": "199c595a-7952-4197-80f2-fbeac178c7ec"
      },
      "outputs": [],
      "source": [
        "# Bar plot: Average total bill per day\n",
        "sns.barplot(x=\"day\", y=\"total_bill\", data=tips, errorbar=None)\n",
        "plt.title(\"Average Total Bill Per Day\")\n",
        "plt.show()\n"
      ]
    },
    {
      "cell_type": "markdown",
      "metadata": {
        "id": "1U-6NRrJIXRX"
      },
      "source": [
        "**Scatter Plot**\n",
        "\n",
        "What: A scatter plot shows the relationship between two continuous variables, with each point representing a pair of values.\n",
        "\n",
        "Why: Use it to identify correlations, trends, or clusters in data."
      ]
    },
    {
      "cell_type": "code",
      "execution_count": null,
      "metadata": {
        "colab": {
          "base_uri": "https://localhost:8080/",
          "height": 472
        },
        "id": "u474QpZEIYLq",
        "outputId": "3053ca05-356e-4527-cc22-9e746c5df73c"
      },
      "outputs": [],
      "source": [
        "# Scatter plot: Relationship between total bill and tip\n",
        "sns.scatterplot(x=\"total_bill\", y=\"tip\", hue=\"day\", data=tips)\n",
        "plt.title(\"Scatter Plot of Tips vs Total Bill\")\n",
        "plt.show()\n"
      ]
    },
    {
      "cell_type": "markdown",
      "metadata": {
        "id": "L45m8i6KIk_4"
      },
      "source": [
        "**Box Plot**\n",
        "\n",
        "What: A box plot visualizes the distribution of data based on five summary statistics: minimum, first quartile (Q1), median, third quartile (Q3), and maximum.\n",
        "\n",
        "Why: Use it to detect outliers, understand the spread, and compare distributions across categories."
      ]
    },
    {
      "cell_type": "code",
      "execution_count": null,
      "metadata": {
        "colab": {
          "base_uri": "https://localhost:8080/",
          "height": 472
        },
        "id": "NuLDjD68Il8I",
        "outputId": "eca27154-75f6-45e3-c2ac-37daad67cd07"
      },
      "outputs": [],
      "source": [
        "# Box plot: Distribution of total bills per day\n",
        "sns.boxplot(x=\"day\", y=\"total_bill\", data=tips)\n",
        "plt.title(\"Distribution of Total Bills\")\n",
        "plt.show()\n"
      ]
    },
    {
      "cell_type": "markdown",
      "metadata": {
        "id": "b5eftCPnItCD"
      },
      "source": [
        "**Heatmap**\n",
        "\n",
        "What: A heatmap displays data in matrix format, where values are represented by colors, useful for visualizing correlations or intensity.\n",
        "\n",
        "Why: Use it to observe patterns, correlations, or relationships between numerical variables."
      ]
    },
    {
      "cell_type": "code",
      "execution_count": null,
      "metadata": {
        "colab": {
          "base_uri": "https://localhost:8080/",
          "height": 452
        },
        "id": "faHbZR-dIvw7",
        "outputId": "7c0e0208-04e3-4171-cb5c-7e7318c77ef4"
      },
      "outputs": [],
      "source": [
        "# Select numeric columns from the dataset\n",
        "numeric_tips = tips.select_dtypes(include=[\"float64\", \"int64\"])\n",
        "\n",
        "# Compute the correlation matrix\n",
        "correlation = numeric_tips.corr()\n",
        "\n",
        "# Display the heatmap\n",
        "sns.heatmap(correlation, annot=True, cmap=\"coolwarm\")\n",
        "plt.title(\"Correlation Heatmap\")\n",
        "plt.show()"
      ]
    },
    {
      "cell_type": "markdown",
      "metadata": {
        "id": "PjuJTGDWLIhU"
      },
      "source": [
        "**Bar Plot: Average Tip by Day and Time**\n",
        "\n",
        "Bar plots are great for summarizing and comparing values."
      ]
    },
    {
      "cell_type": "code",
      "execution_count": null,
      "metadata": {
        "colab": {
          "base_uri": "https://localhost:8080/",
          "height": 472
        },
        "id": "cE9O8BqRLJug",
        "outputId": "5c1460c2-bb2b-44d9-e995-78f6003b5869"
      },
      "outputs": [],
      "source": [
        "import seaborn as sns\n",
        "import matplotlib.pyplot as plt\n",
        "\n",
        "# Load the tips dataset\n",
        "tips = sns.load_dataset(\"tips\")\n",
        "\n",
        "# Bar plot: Average tip by day and time\n",
        "sns.barplot(x=\"day\", y=\"tip\", hue=\"time\", data=tips, errorbar=None)\n",
        "plt.title(\"Average Tip by Day and Time\")\n",
        "plt.ylabel(\"Average Tip\")\n",
        "plt.show()"
      ]
    },
    {
      "cell_type": "markdown",
      "metadata": {
        "id": "6K3eMAWzLWG9"
      },
      "source": [
        "**Box Plot: Distribution of Total Bill by Day**\n",
        "\n",
        "Box plots help visualize the spread and outliers in the data."
      ]
    },
    {
      "cell_type": "code",
      "execution_count": null,
      "metadata": {
        "colab": {
          "base_uri": "https://localhost:8080/",
          "height": 472
        },
        "id": "-g1MM8wsLW91",
        "outputId": "c7402cdf-3360-4d98-a403-674904dbea35"
      },
      "outputs": [],
      "source": [
        "# Box plot: Total bill by day\n",
        "sns.boxplot(x=\"day\", y=\"total_bill\", data=tips)\n",
        "plt.title(\"Distribution of Total Bill by Day\")\n",
        "plt.show()"
      ]
    },
    {
      "cell_type": "markdown",
      "metadata": {
        "id": "32Yomtc4Lcqv"
      },
      "source": [
        "**Violin Plot: Total Bill by Gender and Time**\n",
        "\n",
        "Violin plots show the distribution and density of the data."
      ]
    },
    {
      "cell_type": "code",
      "execution_count": null,
      "metadata": {
        "colab": {
          "base_uri": "https://localhost:8080/",
          "height": 472
        },
        "id": "k791jH45Liip",
        "outputId": "594d3a92-6590-484b-9550-49234819b725"
      },
      "outputs": [],
      "source": [
        "# Violin plot: Total bill by gender and time\n",
        "sns.violinplot(x=\"sex\", y=\"total_bill\", hue=\"time\", data=tips, split=True)\n",
        "plt.title(\"Total Bill Distribution by Gender and Time\")\n",
        "plt.show()"
      ]
    },
    {
      "cell_type": "markdown",
      "metadata": {
        "id": "dXaErozCLqwI"
      },
      "source": [
        "**Pairplot: Relationships Between Variables**\n",
        "\n",
        "Pair plots are ideal for exploring relationships in datasets with numerical and categorical features."
      ]
    },
    {
      "cell_type": "code",
      "execution_count": null,
      "metadata": {
        "colab": {
          "base_uri": "https://localhost:8080/",
          "height": 787
        },
        "id": "2p_xrioZLuWg",
        "outputId": "8cb695cd-5e3e-4d99-971e-8baaffdaee38"
      },
      "outputs": [],
      "source": [
        "# Pairplot for numerical relationships in tips\n",
        "sns.pairplot(tips, hue=\"sex\")\n",
        "plt.suptitle(\"Pairplot of Tips Dataset\", y=1.02)\n",
        "plt.show()\n"
      ]
    },
    {
      "cell_type": "markdown",
      "metadata": {
        "id": "dtfP7lslLyIa"
      },
      "source": [
        "**Heatmap: Correlation Between Numerical Variables**\n",
        "\n",
        "A heatmap can help identify patterns and strong correlations."
      ]
    },
    {
      "cell_type": "code",
      "execution_count": null,
      "metadata": {
        "colab": {
          "base_uri": "https://localhost:8080/",
          "height": 452
        },
        "id": "hDqmqE5JL6_n",
        "outputId": "042a6d6e-0041-4131-b772-bb45bb331911"
      },
      "outputs": [],
      "source": [
        "# Select numeric columns from the dataset\n",
        "numeric_tips = tips.select_dtypes(include=[\"float64\", \"int64\"])\n",
        "\n",
        "# Compute the correlation matrix\n",
        "correlation = numeric_tips.corr()\n",
        "\n",
        "# Display the heatmap\n",
        "sns.heatmap(correlation, annot=True, cmap=\"coolwarm\")\n",
        "plt.title(\"Correlation Heatmap\")\n",
        "plt.show()"
      ]
    },
    {
      "cell_type": "markdown",
      "metadata": {
        "id": "xI510F2fGdBJ"
      },
      "source": [
        "# **Plotly**\n",
        "* A library for creating interactive visualizations.\n",
        "* Allows for dynamic updates, hover functionality, zooming, and exporting graphs.\n",
        "* Offers integration with Dash for creating interactive web apps.\n",
        "Best for line plots, scatter plots, 3D plots, and dashboards."
      ]
    },
    {
      "cell_type": "markdown",
      "metadata": {
        "id": "OnB4KwJJI4ry"
      },
      "source": [
        "**Importing Plotly and Dataset**"
      ]
    },
    {
      "cell_type": "code",
      "execution_count": null,
      "metadata": {
        "colab": {
          "base_uri": "https://localhost:8080/"
        },
        "id": "cIOQRwkcHDMM",
        "outputId": "9bffaad4-759f-438d-bd38-a8c8d35dacf7"
      },
      "outputs": [],
      "source": [
        "import plotly.express as px\n",
        "\n",
        "# Load example data\n",
        "df = px.data.iris()\n",
        "print(df.head(10))\n"
      ]
    },
    {
      "cell_type": "markdown",
      "metadata": {
        "id": "R_lEDdVzJAo9"
      },
      "source": [
        "**Line Plot**"
      ]
    },
    {
      "cell_type": "code",
      "execution_count": null,
      "metadata": {
        "colab": {
          "base_uri": "https://localhost:8080/",
          "height": 542
        },
        "id": "1rnZDhN0I8XN",
        "outputId": "9e5911a7-6f2c-4453-eac8-051642462dba"
      },
      "outputs": [],
      "source": [
        "# Line plot: Sepal length across samples\n",
        "fig = px.line(df, x=df.index, y=\"sepal_length\", title=\"Sepal Length Trend\")\n",
        "fig.show()"
      ]
    },
    {
      "cell_type": "code",
      "execution_count": null,
      "metadata": {
        "colab": {
          "base_uri": "https://localhost:8080/",
          "height": 542
        },
        "id": "sv1fEbq0JCre",
        "outputId": "b09e7724-9b7b-45d5-e1bd-afceb8d1c51e"
      },
      "outputs": [],
      "source": [
        "# Line plot: Petal length across samples\n",
        "fig = px.line(df, x=df.index, y=\"petal_length\", title=\"Petal Length Trend\")\n",
        "fig.show()\n"
      ]
    },
    {
      "cell_type": "markdown",
      "metadata": {
        "id": "8TpqtosqJTU9"
      },
      "source": [
        "**Scatter Plot**"
      ]
    },
    {
      "cell_type": "code",
      "execution_count": null,
      "metadata": {
        "colab": {
          "base_uri": "https://localhost:8080/",
          "height": 542
        },
        "id": "OKk5En-SJO6m",
        "outputId": "ec7f4e33-6b1c-45ca-a9ae-e2a6a44cfe09"
      },
      "outputs": [],
      "source": [
        "# Scatter plot: Sepal vs Petal Length\n",
        "fig = px.scatter(df, x=\"sepal_length\", y=\"petal_length\", color=\"species\", title=\"Sepal vs Petal Length\")\n",
        "fig.show()\n"
      ]
    },
    {
      "cell_type": "markdown",
      "metadata": {
        "id": "YUjlj_zmJdpr"
      },
      "source": [
        "**Bar Plot**"
      ]
    },
    {
      "cell_type": "code",
      "execution_count": null,
      "metadata": {
        "colab": {
          "base_uri": "https://localhost:8080/",
          "height": 542
        },
        "id": "3Ov4MikcJVWo",
        "outputId": "e7ade436-ad5b-4dad-c914-b5022bf7c5f2"
      },
      "outputs": [],
      "source": [
        "# Bar plot: Average sepal width per species\n",
        "fig = px.bar(df, x=\"species\", y=\"sepal_width\", title=\"Average Sepal Width by Species\")\n",
        "fig.show()"
      ]
    },
    {
      "cell_type": "code",
      "execution_count": null,
      "metadata": {
        "colab": {
          "base_uri": "https://localhost:8080/",
          "height": 542
        },
        "id": "x34_obiSJf4x",
        "outputId": "9b346b95-97f9-4adb-d0f0-6695bc48fdbb"
      },
      "outputs": [],
      "source": [
        "# Bar plot: Average petal width per species\n",
        "fig = px.bar(df, x=\"species\", y=\"petal_width\", title=\"Average Petal Width by Species\")\n",
        "fig.show()"
      ]
    },
    {
      "cell_type": "markdown",
      "metadata": {
        "id": "0mihg37PJvbd"
      },
      "source": [
        "**Pie Chart**"
      ]
    },
    {
      "cell_type": "code",
      "execution_count": null,
      "metadata": {
        "colab": {
          "base_uri": "https://localhost:8080/",
          "height": 542
        },
        "id": "Y6rXkuopJrqt",
        "outputId": "a320bb80-909e-4ece-82fc-39ce32a89df9"
      },
      "outputs": [],
      "source": [
        "# Pie chart: Species distribution\n",
        "fig = px.pie(df, names=\"species\", title=\"Species Distribution\")\n",
        "fig.show()\n"
      ]
    },
    {
      "cell_type": "markdown",
      "metadata": {
        "id": "U19IUnTsMehw"
      },
      "source": [
        "**Scatter Plot: Sepal Length vs Sepal Width**\n",
        "\n",
        "Scatter plots show relationships between two numerical variables."
      ]
    },
    {
      "cell_type": "code",
      "execution_count": null,
      "metadata": {
        "colab": {
          "base_uri": "https://localhost:8080/",
          "height": 472
        },
        "id": "Rtq3AQsOJxn9",
        "outputId": "083b12f9-3278-4589-8559-71c2a6d981de"
      },
      "outputs": [],
      "source": [
        "# Load the iris dataset\n",
        "iris = sns.load_dataset(\"iris\")\n",
        "\n",
        "# Scatter plot: Sepal length vs sepal width\n",
        "sns.scatterplot(x=\"sepal_length\", y=\"sepal_width\", hue=\"species\", data=iris)\n",
        "plt.title(\"Sepal Length vs Sepal Width\")\n",
        "plt.show()\n"
      ]
    },
    {
      "cell_type": "markdown",
      "metadata": {
        "id": "R_nt3CiQMnER"
      },
      "source": [
        "**Box Plot: Distribution of Petal Length**\n",
        "\n",
        "Box plots help analyze distributions of numerical data."
      ]
    },
    {
      "cell_type": "code",
      "execution_count": null,
      "metadata": {
        "colab": {
          "base_uri": "https://localhost:8080/",
          "height": 472
        },
        "id": "wZYZcSLIMiN2",
        "outputId": "912cb260-709a-4e63-dffe-543025a4bf12"
      },
      "outputs": [],
      "source": [
        "# Box plot: Petal length by species\n",
        "sns.boxplot(x=\"species\", y=\"petal_length\", data=iris)\n",
        "plt.title(\"Distribution of Petal Length by Species\")\n",
        "plt.show()"
      ]
    },
    {
      "cell_type": "markdown",
      "metadata": {
        "id": "2OS8K_AgM0Bw"
      },
      "source": [
        "**KDE Plot: Sepal Length Density**\n",
        "\n",
        "Kernel Density Estimation (KDE) plots visualize the probability density."
      ]
    },
    {
      "cell_type": "code",
      "execution_count": null,
      "metadata": {
        "colab": {
          "base_uri": "https://localhost:8080/",
          "height": 472
        },
        "id": "8_MhGiP6MrNs",
        "outputId": "25fded53-c083-4ef5-e141-10f79f168979"
      },
      "outputs": [],
      "source": [
        "# KDE plot for Sepal length by species\n",
        "sns.kdeplot(data=iris, x=\"sepal_length\", hue=\"species\", fill=True)\n",
        "plt.title(\"Sepal Length Density by Species\")\n",
        "plt.show()"
      ]
    },
    {
      "cell_type": "markdown",
      "metadata": {
        "id": "aAGgFErCM75I"
      },
      "source": [
        "**Pairplot: Relationships in Iris Dataset**\n",
        "\n",
        "Pair plots allow a quick overview of relationships among variables."
      ]
    },
    {
      "cell_type": "code",
      "execution_count": null,
      "metadata": {
        "colab": {
          "base_uri": "https://localhost:8080/",
          "height": 1000
        },
        "id": "pP6X6h7lM390",
        "outputId": "7d01eba0-3a41-4907-841b-111cf04f577c"
      },
      "outputs": [],
      "source": [
        "# Pairplot of iris dataset\n",
        "sns.pairplot(iris, hue=\"species\")\n",
        "plt.suptitle(\"Pairplot of Iris Dataset\", y=1.02)\n",
        "plt.show()\n"
      ]
    },
    {
      "cell_type": "markdown",
      "metadata": {
        "id": "pOS77wBnNJpl"
      },
      "source": [
        "**Heatmap: Correlation Between Numerical Variables**\n",
        "\n",
        "This shows numerical relationships and their strength."
      ]
    },
    {
      "cell_type": "code",
      "execution_count": null,
      "metadata": {
        "colab": {
          "base_uri": "https://localhost:8080/",
          "height": 452
        },
        "id": "IA4Tg0CQM_Fc",
        "outputId": "05c39eeb-0ac4-4b3b-92e3-2f1eb55522ac"
      },
      "outputs": [],
      "source": [
        "# Correlation matrix\n",
        "correlation_iris = iris.drop(\"species\", axis=1).corr()\n",
        "\n",
        "# Heatmap\n",
        "sns.heatmap(correlation_iris, annot=True, cmap=\"viridis\")\n",
        "plt.title(\"Correlation Heatmap of Iris Dataset\")\n",
        "plt.show()\n"
      ]
    },
    {
      "cell_type": "markdown",
      "metadata": {
        "id": "XX_PSksBVBlQ"
      },
      "source": [
        "# **Student Guidelines**\n",
        "* Use Comments: Add comments to explain your code.\n",
        "* Experiment: Try changing the axes, colors, and other parameters to make the plots more informative.\n",
        "* Combine Seaborn and Plotly: Use both libraries for the same dataset to compare their features.\n",
        "* Submit Code and Outputs: Provide the Python script and screenshots of your outputs."
      ]
    },
    {
      "cell_type": "markdown",
      "metadata": {
        "id": "BGsohsSbUHnz"
      },
      "source": [
        "# **Seaborn Classwork**\n",
        "\n",
        "Dataset: penguins\n",
        "\n",
        "The penguins dataset contains information about penguin species, their sizes, and island habitats.\n",
        "\n",
        "Tasks:\n",
        "\n",
        "* Bar Plot:\n",
        "Create a bar plot showing the average body mass for each penguin species.\n",
        "* Pairplot:\n",
        "Create a pair plot showing relationships between numerical features of the penguins dataset, categorized by species.\n",
        "* Box Plot:\n",
        "Create a box plot showing the distribution of flipper length for each species.\n"
      ]
    },
    {
      "cell_type": "code",
      "execution_count": null,
      "metadata": {
        "id": "MDnPde2jNl6J"
      },
      "outputs": [],
      "source": [
        "import seaborn as sns\n",
        "import matplotlib.pyplot as plt\n",
        "\n",
        "# Load the penguins dataset\n",
        "penguins = sns.load_dataset(\"penguins\")"
      ]
    },
    {
      "cell_type": "code",
      "execution_count": null,
      "metadata": {
        "colab": {
          "base_uri": "https://localhost:8080/",
          "height": 423
        },
        "id": "vmDVeP22V2fP",
        "outputId": "5775df28-24f9-43ac-df0b-fcb065236d20"
      },
      "outputs": [],
      "source": [
        "penguins"
      ]
    },
    {
      "cell_type": "code",
      "execution_count": null,
      "metadata": {
        "colab": {
          "base_uri": "https://localhost:8080/",
          "height": 751
        },
        "id": "Ez10e4NgVqbK",
        "outputId": "b0014a03-9d03-434f-93ad-861539ddb530"
      },
      "outputs": [],
      "source": [
        "# 1. Bar Plot: Average body mass for each penguin species\n",
        "plt.figure(figsize=(8, 6))\n",
        "sns.barplot(x=\"species\", y=\"body_mass_g\", data=penguins, ci=None, palette=\"viridis\")\n",
        "plt.title(\"Average Body Mass for Each Penguin Species\", fontsize=14)\n",
        "plt.xlabel(\"Species\", fontsize=12)\n",
        "plt.ylabel(\"Average Body Mass (g)\", fontsize=12)\n",
        "plt.grid(axis=\"y\", linestyle=\"--\", alpha=0.6)\n",
        "plt.show()"
      ]
    },
    {
      "cell_type": "code",
      "execution_count": null,
      "metadata": {
        "colab": {
          "base_uri": "https://localhost:8080/",
          "height": 1000
        },
        "id": "OcL7Qe7rUsj6",
        "outputId": "e0152d48-d19a-4663-eccf-35de6851e8dc"
      },
      "outputs": [],
      "source": [
        "# 2. Pair Plot: Relationships between numerical features categorized by species\n",
        "sns.pairplot(penguins, hue=\"species\", palette=\"coolwarm\", diag_kind=\"kde\", height=2.5)\n",
        "plt.suptitle(\"Pair Plot of Numerical Features by Species\", y=1.02, fontsize=16)\n",
        "plt.show()"
      ]
    },
    {
      "cell_type": "code",
      "execution_count": null,
      "metadata": {
        "colab": {
          "base_uri": "https://localhost:8080/",
          "height": 660
        },
        "id": "GEMwsAePV0QY",
        "outputId": "6a1f4640-1ea8-4fa5-8dbf-b9cb1f6365b6"
      },
      "outputs": [],
      "source": [
        "\n",
        "# 3. Box Plot: Distribution of flipper length for each species\n",
        "plt.figure(figsize=(8, 6))\n",
        "sns.boxplot(x=\"species\", y=\"flipper_length_mm\", data=penguins, palette=\"Set2\")\n",
        "plt.title(\"Distribution of Flipper Length for Each Penguin Species\", fontsize=14)\n",
        "plt.xlabel(\"Species\", fontsize=12)\n",
        "plt.ylabel(\"Flipper Length (mm)\", fontsize=12)\n",
        "plt.grid(axis=\"y\", linestyle=\"--\", alpha=0.6)\n",
        "plt.show()"
      ]
    },
    {
      "cell_type": "markdown",
      "metadata": {
        "id": "OANkVbAvUar5"
      },
      "source": [
        "# **Plotly Classwork**\n",
        "\n",
        "Dataset: gapminder\n",
        "\n",
        "The gapminder dataset contains information about countries, their GDP, life expectancy, and population over time.\n",
        "\n",
        "Tasks:\n",
        "\n",
        "* Scatter Plot:\n",
        "Create an interactive scatter plot showing the relationship between GDP per capita and life expectancy for the year 2007.\n",
        "* Bar Plot:\n",
        "Create a bar chart showing the total population for each continent in 2007.\n",
        "* 3D Plot:\n",
        "Create a 3D scatter plot to visualize GDP per capita, life expectancy, and population for the year 2007.\n",
        "* Line Plot:\n",
        "Create a line plot showing the evolution of life expectancy over time for a selected country (e.g., India,UAE,Germany,China,Australia,Russia).\n",
        "\n"
      ]
    },
    {
      "cell_type": "code",
      "execution_count": null,
      "metadata": {
        "id": "_9LOzjO4UaKl"
      },
      "outputs": [],
      "source": [
        "import plotly.express as px\n",
        "\n",
        "# Load gapminder dataset\n",
        "gapminder = px.data.gapminder()"
      ]
    },
    {
      "cell_type": "code",
      "execution_count": null,
      "metadata": {
        "colab": {
          "base_uri": "https://localhost:8080/",
          "height": 423
        },
        "id": "jrk3lpngWHf-",
        "outputId": "8d1ed056-902b-4fc7-debc-01096b8c189e"
      },
      "outputs": [],
      "source": [
        "gapminder"
      ]
    },
    {
      "cell_type": "code",
      "execution_count": null,
      "metadata": {
        "id": "yxj4En_qWKNE"
      },
      "outputs": [],
      "source": [
        "# Filter data for the year 2007\n",
        "gapminder_2007 = gapminder[gapminder[\"year\"] == 2007]"
      ]
    },
    {
      "cell_type": "code",
      "execution_count": null,
      "metadata": {
        "colab": {
          "base_uri": "https://localhost:8080/",
          "height": 542
        },
        "id": "xUTZShl1W-he",
        "outputId": "47eebd88-2d1c-4952-af17-fcfbdd224fb4"
      },
      "outputs": [],
      "source": [
        "# 1. Scatter Plot: GDP per capita vs Life Expectancy for the year 2007\n",
        "scatter_fig = px.scatter(\n",
        "    gapminder_2007,\n",
        "    x=\"gdpPercap\",\n",
        "    y=\"lifeExp\",\n",
        "    size=\"pop\",\n",
        "    color=\"continent\",\n",
        "    hover_name=\"country\",\n",
        "    log_x=True,\n",
        "    title=\"GDP per Capita vs Life Expectancy (2007)\",\n",
        "    labels={\"gdpPercap\": \"GDP per Capita\", \"lifeExp\": \"Life Expectancy\"},\n",
        ")\n",
        "scatter_fig.show()"
      ]
    },
    {
      "cell_type": "code",
      "execution_count": null,
      "metadata": {
        "colab": {
          "base_uri": "https://localhost:8080/",
          "height": 542
        },
        "id": "f4QVOM5BXA8O",
        "outputId": "29b45007-9032-46a7-acd7-c29df153c8bf"
      },
      "outputs": [],
      "source": [
        "# 2. Bar Plot: Total Population by Continent in 2007\n",
        "bar_fig = px.bar(\n",
        "    gapminder_2007.groupby(\"continent\", as_index=False).sum(),\n",
        "    x=\"continent\",\n",
        "    y=\"pop\",\n",
        "    color=\"continent\",\n",
        "    title=\"Total Population by Continent (2007)\",\n",
        "    labels={\"pop\": \"Total Population\"},\n",
        ")\n",
        "bar_fig.show()"
      ]
    },
    {
      "cell_type": "code",
      "execution_count": null,
      "metadata": {
        "colab": {
          "base_uri": "https://localhost:8080/",
          "height": 542
        },
        "id": "39OEbXeiXDH1",
        "outputId": "0b73aa7f-3efc-4c3d-b6e2-1579d9e12a56"
      },
      "outputs": [],
      "source": [
        "# 3. 3D Scatter Plot: GDP per Capita, Life Expectancy, and Population in 2007\n",
        "scatter_3d_fig = px.scatter_3d(\n",
        "    gapminder_2007,\n",
        "    x=\"gdpPercap\",\n",
        "    y=\"lifeExp\",\n",
        "    z=\"pop\",\n",
        "    color=\"continent\",\n",
        "    size=\"pop\",\n",
        "    hover_name=\"country\",\n",
        "    title=\"3D Scatter Plot: GDP per Capita, Life Expectancy, and Population (2007)\",\n",
        "    labels={\"gdpPercap\": \"GDP per Capita\", \"lifeExp\": \"Life Expectancy\", \"pop\": \"Population\"},\n",
        ")\n",
        "scatter_3d_fig.show()"
      ]
    },
    {
      "cell_type": "code",
      "execution_count": null,
      "metadata": {
        "colab": {
          "base_uri": "https://localhost:8080/",
          "height": 542
        },
        "id": "Vs9y4oREXFyK",
        "outputId": "923d0bd8-2bd6-4807-c3ce-55ef49e73439"
      },
      "outputs": [],
      "source": [
        "# 4. Line Plot: Evolution of Life Expectancy Over Time for Selected Countries\n",
        "selected_countries = [\"India\", \"UAE\", \"Germany\", \"China\", \"Australia\", \"Russia\"]\n",
        "gapminder_selected = gapminder[gapminder[\"country\"].isin(selected_countries)]\n",
        "line_fig = px.line(\n",
        "    gapminder_selected,\n",
        "    x=\"year\",\n",
        "    y=\"lifeExp\",\n",
        "    color=\"country\",\n",
        "    title=\"Evolution of Life Expectancy Over Time\",\n",
        "    labels={\"lifeExp\": \"Life Expectancy\", \"year\": \"Year\"},\n",
        ")\n",
        "line_fig.show()"
      ]
    },
    {
      "cell_type": "markdown",
      "metadata": {
        "id": "KHhX_TSgV1Im"
      },
      "source": [
        "# Load the **flights** dataset from Seaborn. Create a heatmap to show the number of passengers for each month and year. Customize the heatmap with labels and a color bar."
      ]
    },
    {
      "cell_type": "code",
      "execution_count": null,
      "metadata": {
        "id": "IQtQYR7uU7GA"
      },
      "outputs": [],
      "source": [
        "import seaborn as sns\n",
        "import matplotlib.pyplot as plt\n",
        "\n",
        "# Load the flights dataset\n",
        "flights = sns.load_dataset('flights')"
      ]
    },
    {
      "cell_type": "code",
      "execution_count": null,
      "metadata": {
        "colab": {
          "base_uri": "https://localhost:8080/",
          "height": 423
        },
        "id": "QYPUOAZzWnyP",
        "outputId": "432b984f-9c41-4733-e101-2d2d37022fba"
      },
      "outputs": [],
      "source": [
        "flights"
      ]
    },
    {
      "cell_type": "code",
      "execution_count": null,
      "metadata": {
        "id": "PTPo-cFnW05V"
      },
      "outputs": [],
      "source": [
        "# Pivot the data to create a matrix format suitable for a heatmap\n",
        "flights_pivot = flights.pivot(index=\"month\", columns=\"year\", values=\"passengers\")"
      ]
    },
    {
      "cell_type": "code",
      "execution_count": null,
      "metadata": {
        "colab": {
          "base_uri": "https://localhost:8080/",
          "height": 714
        },
        "id": "NIGknrRRX8CS",
        "outputId": "15b66bd5-fda9-4115-d366-1aa72d34063c"
      },
      "outputs": [],
      "source": [
        "# Create the heatmap\n",
        "plt.figure(figsize=(12, 8))\n",
        "sns.heatmap(\n",
        "    flights_pivot,\n",
        "    annot=True,  # Annotate cells with the data values\n",
        "    fmt=\"d\",  # Format annotations as integers\n",
        "    cmap=\"YlGnBu\",  # Colormap for the heatmap\n",
        "    cbar_kws={\"label\": \"Number of Passengers\"},  # Customize the color bar\n",
        ")"
      ]
    },
    {
      "cell_type": "code",
      "execution_count": null,
      "metadata": {
        "colab": {
          "base_uri": "https://localhost:8080/",
          "height": 496
        },
        "id": "FJbgwZ95X-RB",
        "outputId": "757f8eea-c614-4eda-e7b1-aa42bf0a19c5"
      },
      "outputs": [],
      "source": [
        "# Add labels and title\n",
        "plt.title(\"Monthly Number of Passengers (1949-1960)\", fontsize=16)\n",
        "plt.xlabel(\"Year\", fontsize=12)\n",
        "plt.ylabel(\"Month\", fontsize=12)"
      ]
    },
    {
      "cell_type": "code",
      "execution_count": null,
      "metadata": {
        "colab": {
          "base_uri": "https://localhost:8080/",
          "height": 35
        },
        "id": "Cr3OYdygX_7U",
        "outputId": "cc9bc9a4-aec6-4eaf-ac1e-25ec7c90e282"
      },
      "outputs": [],
      "source": [
        "# Show the plot\n",
        "plt.tight_layout()\n",
        "plt.show()"
      ]
    },
    {
      "cell_type": "markdown",
      "metadata": {
        "id": "0KhYAvlFV5Tu"
      },
      "source": [
        "# Load the **tips** dataset. First, create a Seaborn boxplot to show the distribution of total_bill across different days of the week. Then, create an interactive Plotly pie chart showing the percentage contribution of each day to the total number of records."
      ]
    },
    {
      "cell_type": "code",
      "execution_count": null,
      "metadata": {
        "id": "srsIO4UPWGvv"
      },
      "outputs": [],
      "source": [
        "import seaborn as sns\n",
        "import matplotlib.pyplot as plt\n",
        "import plotly.express as px\n",
        "import pandas as pd\n",
        "\n",
        "# Load the tips dataset\n",
        "tips = sns.load_dataset('tips')"
      ]
    },
    {
      "cell_type": "code",
      "execution_count": null,
      "metadata": {
        "colab": {
          "base_uri": "https://localhost:8080/",
          "height": 423
        },
        "id": "EJ2oMDeLWpMM",
        "outputId": "a3f04230-b008-4b67-854c-d611adbc5ca9"
      },
      "outputs": [],
      "source": [
        "tips"
      ]
    },
    {
      "cell_type": "code",
      "execution_count": null,
      "metadata": {
        "colab": {
          "base_uri": "https://localhost:8080/",
          "height": 698
        },
        "id": "xxdy1KNEgxgx",
        "outputId": "bab60301-2d0f-4700-eb20-f3f457bf4881"
      },
      "outputs": [],
      "source": [
        "# Seaborn boxplot for total_bill distribution across days\n",
        "plt.figure(figsize=(10, 6))\n",
        "sns.boxplot(x=\"day\", y=\"total_bill\", data=tips, palette=\"coolwarm\")\n",
        "plt.title(\"Distribution of Total Bill Across Days\", fontsize=16)\n",
        "plt.xlabel(\"Day of the Week\", fontsize=12)\n",
        "plt.ylabel(\"Total Bill ($)\", fontsize=12)\n",
        "plt.show()"
      ]
    },
    {
      "cell_type": "code",
      "execution_count": null,
      "metadata": {
        "id": "Hx1P1oH_g4cm"
      },
      "outputs": [],
      "source": [
        "# Create a DataFrame with counts for each day\n",
        "day_counts = tips[\"day\"].value_counts().reset_index()\n",
        "day_counts.columns = [\"day\", \"count\"]"
      ]
    },
    {
      "cell_type": "code",
      "execution_count": null,
      "metadata": {
        "colab": {
          "base_uri": "https://localhost:8080/",
          "height": 542
        },
        "id": "mobpNC0kg7X2",
        "outputId": "643de30d-e4f0-4554-fdc2-63bf029d71d9"
      },
      "outputs": [],
      "source": [
        "# Plotly pie chart for percentage contribution of each day\n",
        "fig = px.pie(\n",
        "    day_counts,\n",
        "    names=\"day\",\n",
        "    values=\"count\",\n",
        "    title=\"Percentage Contribution of Each Day to Total Records\",\n",
        "    color_discrete_sequence=px.colors.sequential.Blues,\n",
        "    hole=0.4  # For a donut chart look\n",
        ")\n",
        "fig.update_traces(textinfo=\"percent+label\")\n",
        "fig.show()"
      ]
    }
  ],
  "metadata": {
    "colab": {
      "provenance": []
    },
    "kernelspec": {
      "display_name": "tfodj",
      "language": "python",
      "name": "tfodj"
    }
  },
  "nbformat": 4,
  "nbformat_minor": 0
}
