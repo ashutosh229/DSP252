{
  "nbformat": 4,
  "nbformat_minor": 0,
  "metadata": {
    "colab": {
      "provenance": []
    },
    "kernelspec": {
      "name": "python3",
      "display_name": "Python 3"
    },
    "language_info": {
      "name": "python"
    }
  },
  "cells": [
    {
      "cell_type": "markdown",
      "source": [
        "### Write a Python program to calculate the betweenness centrality of nodes in a given network graph.\n",
        "\n"
      ],
      "metadata": {
        "id": "8aD36LOwdggJ"
      }
    },
    {
      "cell_type": "markdown",
      "source": [
        "### Using NetworkX"
      ],
      "metadata": {
        "id": "m6ecOEVwdjNj"
      }
    },
    {
      "cell_type": "code",
      "source": [
        "import networkx as nx\n",
        "from collections import deque\n",
        "from itertools import combinations"
      ],
      "metadata": {
        "id": "32EF9x4sdokj"
      },
      "execution_count": 5,
      "outputs": []
    },
    {
      "cell_type": "code",
      "source": [
        "# Given graph (Adjacency List Representation)\n",
        "graph = {\n",
        "    \"Alice\": [\"Bob\", \"Charlie\", \"David\"],\n",
        "    \"Bob\": [\"Alice\", \"David\", \"Eve\", \"Hank\"],\n",
        "    \"Charlie\": [\"Alice\", \"David\", \"Frank\", \"Grace\"],\n",
        "    \"David\": [\"Alice\", \"Bob\", \"Charlie\", \"Eve\", \"Frank\"],\n",
        "    \"Eve\": [\"Bob\", \"David\", \"Frank\", \"Ivy\"],\n",
        "    \"Frank\": [\"Charlie\", \"David\", \"Eve\", \"Grace\", \"Ivy\", \"Jack\"],\n",
        "    \"Grace\": [\"Charlie\", \"Frank\", \"Hank\"],\n",
        "    \"Hank\": [\"Bob\", \"Grace\", \"Ivy\", \"Jack\"],\n",
        "    \"Ivy\": [\"Eve\", \"Frank\", \"Hank\", \"Jack\", \"Kelly\"],\n",
        "    \"Jack\": [\"Frank\", \"Hank\", \"Ivy\", \"Kelly\", \"Leo\"],\n",
        "    \"Kelly\": [\"Ivy\", \"Jack\", \"Leo\"],\n",
        "    \"Leo\": [\"Jack\", \"Kelly\"]\n",
        "}"
      ],
      "metadata": {
        "id": "OStuuGzzd1Nc"
      },
      "execution_count": 4,
      "outputs": []
    },
    {
      "cell_type": "code",
      "source": [
        "# Convert the adjacency list to a NetworkX graph\n",
        "G = nx.Graph(graph)"
      ],
      "metadata": {
        "id": "X-n0mhc-d7k-"
      },
      "execution_count": 6,
      "outputs": []
    },
    {
      "cell_type": "code",
      "source": [
        "print(\"Betweenness Centrality (NetworkX):\")\n",
        "bet_centrality_nx = nx.betweenness_centrality(G)\n",
        "print(bet_centrality_nx)"
      ],
      "metadata": {
        "colab": {
          "base_uri": "https://localhost:8080/"
        },
        "id": "L2qMJ8OGeAO2",
        "outputId": "7841546f-715f-4236-92df-01cef3e3bbd0"
      },
      "execution_count": 7,
      "outputs": [
        {
          "output_type": "stream",
          "name": "stdout",
          "text": [
            "Betweenness Centrality (NetworkX):\n",
            "{'Alice': 0.00909090909090909, 'Bob': 0.08075757575757576, 'Charlie': 0.056666666666666664, 'David': 0.07166666666666666, 'Eve': 0.051212121212121216, 'Frank': 0.25878787878787873, 'Grace': 0.02424242424242424, 'Hank': 0.13242424242424242, 'Ivy': 0.1265151515151515, 'Jack': 0.20984848484848484, 'Kelly': 0.01515151515151515, 'Leo': 0.0}\n"
          ]
        }
      ]
    },
    {
      "cell_type": "markdown",
      "source": [
        "### Without using NetworkX"
      ],
      "metadata": {
        "id": "4NlMSPNWeFSW"
      }
    },
    {
      "cell_type": "code",
      "source": [
        "def bfs_shortest_paths(source, graph):\n",
        "    queue = deque([source])\n",
        "    paths = {source: 1}\n",
        "    level = {source: 0}\n",
        "    parents = {source: []}\n",
        "\n",
        "    while queue:\n",
        "        node = queue.popleft()\n",
        "        for neighbor in graph[node]:\n",
        "            if neighbor not in level:\n",
        "                queue.append(neighbor)\n",
        "                level[neighbor] = level[node] + 1\n",
        "                paths[neighbor] = paths[node]\n",
        "                parents[neighbor] = [node]\n",
        "            elif level[neighbor] == level[node] + 1:\n",
        "                paths[neighbor] += paths[node]\n",
        "                parents[neighbor].append(node)\n",
        "\n",
        "    return paths, parents"
      ],
      "metadata": {
        "id": "SweWppT3eIWw"
      },
      "execution_count": 8,
      "outputs": []
    },
    {
      "cell_type": "code",
      "source": [
        "def compute_betweenness(graph):\n",
        "    betweenness = {node: 0 for node in graph}\n",
        "\n",
        "    for node in graph:\n",
        "        paths, parents = bfs_shortest_paths(node, graph)\n",
        "        dependency = {n: 0 for n in graph}\n",
        "\n",
        "        for n in sorted(parents.keys(), key=lambda x: -paths[x]):\n",
        "            for parent in parents[n]:\n",
        "                dependency[parent] += (paths[parent] / paths[n]) * (1 + dependency[n])\n",
        "                if n != node:\n",
        "                    betweenness[n] += dependency[n]\n",
        "\n",
        "    for node in betweenness:\n",
        "        betweenness[node] /= 2  # Each edge is counted twice\n",
        "    return betweenness"
      ],
      "metadata": {
        "id": "Ae2QEPIreQa6"
      },
      "execution_count": 9,
      "outputs": []
    },
    {
      "cell_type": "code",
      "source": [
        "print(\"\\nBetweenness Centrality (Manual Calculation):\")\n",
        "bet_centrality_manual = compute_betweenness(graph)\n",
        "print(bet_centrality_manual)"
      ],
      "metadata": {
        "colab": {
          "base_uri": "https://localhost:8080/"
        },
        "id": "WFD-ThFheUAF",
        "outputId": "403e326e-66cd-4892-a34c-d01f9878a365"
      },
      "execution_count": 10,
      "outputs": [
        {
          "output_type": "stream",
          "name": "stdout",
          "text": [
            "\n",
            "Betweenness Centrality (Manual Calculation):\n",
            "{'Alice': 0.5, 'Bob': 2.2708333333333335, 'Charlie': 1.9500000000000002, 'David': 4.1625000000000005, 'Eve': 3.141666666666667, 'Frank': 7.083333333333333, 'Grace': 0.3333333333333333, 'Hank': 4.074999999999999, 'Ivy': 6.895833333333332, 'Jack': 4.833333333333333, 'Kelly': 0.8333333333333333, 'Leo': 0.0}\n"
          ]
        }
      ]
    },
    {
      "cell_type": "markdown",
      "source": [
        "### Write a Python program to apply the Girvan-Newman Algorithm to detect communities in a given network graph.\n",
        "\n"
      ],
      "metadata": {
        "id": "PIITvI75eXnw"
      }
    },
    {
      "cell_type": "markdown",
      "source": [
        "### Using NetworkX"
      ],
      "metadata": {
        "id": "Sap8dUeUeYj_"
      }
    },
    {
      "cell_type": "code",
      "source": [
        "from networkx.algorithms.community import girvan_newman"
      ],
      "metadata": {
        "id": "EW6xivlMebrM"
      },
      "execution_count": 11,
      "outputs": []
    },
    {
      "cell_type": "code",
      "source": [
        "def networkx_girvan_newman(G):\n",
        "    communities = next(girvan_newman(G))\n",
        "    return [list(c) for c in communities]"
      ],
      "metadata": {
        "id": "pIYkzlWPegxo"
      },
      "execution_count": 12,
      "outputs": []
    },
    {
      "cell_type": "code",
      "source": [
        "print(\"\\nCommunities Detected (NetworkX):\")\n",
        "print(networkx_girvan_newman(G))"
      ],
      "metadata": {
        "colab": {
          "base_uri": "https://localhost:8080/"
        },
        "id": "LlJypu4neflW",
        "outputId": "0b067aea-0b47-455a-ebea-6cbc2d4fb6c1"
      },
      "execution_count": 13,
      "outputs": [
        {
          "output_type": "stream",
          "name": "stdout",
          "text": [
            "\n",
            "Communities Detected (NetworkX):\n",
            "[['Grace', 'Alice', 'David', 'Bob', 'Frank', 'Charlie', 'Eve'], ['Hank', 'Ivy', 'Kelly', 'Leo', 'Jack']]\n"
          ]
        }
      ]
    },
    {
      "cell_type": "markdown",
      "source": [
        "### Without using NetworkX"
      ],
      "metadata": {
        "id": "N8ykaC0xelD4"
      }
    },
    {
      "cell_type": "code",
      "source": [
        "def edge_betweenness(graph):\n",
        "    edge_btw = {tuple(sorted((u, v))): 0 for u in graph for v in graph[u]}\n",
        "\n",
        "    for node in graph:\n",
        "        paths, parents = bfs_shortest_paths(node, graph)\n",
        "        dependency = {n: 0 for n in graph}\n",
        "\n",
        "        for n in sorted(parents.keys(), key=lambda x: -paths[x]):\n",
        "            for parent in parents[n]:\n",
        "                edge = tuple(sorted((parent, n)))\n",
        "                edge_btw[edge] += (paths[parent] / paths[n]) * (1 + dependency[n])\n",
        "                dependency[parent] += (paths[parent] / paths[n]) * (1 + dependency[n])\n",
        "\n",
        "    return edge_btw"
      ],
      "metadata": {
        "id": "wUr4IYEKenRU"
      },
      "execution_count": 17,
      "outputs": []
    },
    {
      "cell_type": "code",
      "source": [
        "def remove_edge(edge, graph_copy):\n",
        "    u, v = edge\n",
        "    graph_copy[u].remove(v)\n",
        "    graph_copy[v].remove(u)"
      ],
      "metadata": {
        "id": "kM8FZtrne4lo"
      },
      "execution_count": 18,
      "outputs": []
    },
    {
      "cell_type": "code",
      "source": [
        "def dfs(node, community, visited, graph_copy):\n",
        "    stack = [node]\n",
        "    while stack:\n",
        "        n = stack.pop()\n",
        "        if n not in visited:\n",
        "            visited.add(n)\n",
        "            community.append(n)\n",
        "            stack.extend(graph_copy[n] - visited)"
      ],
      "metadata": {
        "id": "amXkYfrBfVtT"
      },
      "execution_count": 19,
      "outputs": []
    },
    {
      "cell_type": "code",
      "source": [
        "def girvan_newman_manual(graph):\n",
        "    graph_copy = {node: set(neighbors) for node, neighbors in graph.items()}\n",
        "\n",
        "    while True:\n",
        "        edge_btw = edge_betweenness(graph_copy)\n",
        "        if not edge_btw:\n",
        "            break\n",
        "        edge_to_remove = max(edge_btw, key=edge_btw.get)\n",
        "        remove_edge(edge_to_remove, graph_copy)\n",
        "\n",
        "        visited = set()\n",
        "        communities = []\n",
        "\n",
        "        for node in graph_copy:\n",
        "            if node not in visited:\n",
        "                community = []\n",
        "                dfs(node, community, visited, graph_copy)\n",
        "                communities.append(community)\n",
        "\n",
        "        if len(communities) > 1:\n",
        "            return communities"
      ],
      "metadata": {
        "id": "7tzDro10evTB"
      },
      "execution_count": 20,
      "outputs": []
    },
    {
      "cell_type": "code",
      "source": [
        "print(\"\\nCommunities Detected (Manual Girvan-Newman):\")\n",
        "print(girvan_newman_manual(graph))"
      ],
      "metadata": {
        "colab": {
          "base_uri": "https://localhost:8080/"
        },
        "id": "6Qz8Lo39frGk",
        "outputId": "d647c760-5187-44ee-cc62-94df64f8287a"
      },
      "execution_count": 21,
      "outputs": [
        {
          "output_type": "stream",
          "name": "stdout",
          "text": [
            "\n",
            "Communities Detected (Manual Girvan-Newman):\n",
            "[['Alice', 'Bob', 'Eve', 'David', 'Charlie', 'Grace', 'Frank', 'Hank'], ['Ivy', 'Jack', 'Kelly', 'Leo']]\n"
          ]
        }
      ]
    }
  ]
}