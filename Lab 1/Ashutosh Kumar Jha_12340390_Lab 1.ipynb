{
 "cells": [
  {
   "cell_type": "markdown",
   "metadata": {
    "id": "Zh6VmxdBkydC"
   },
   "source": [
    "## Question 1:\n",
    "\n",
    "Check for primes between 2 numbers given by the user"
   ]
  },
  {
   "cell_type": "code",
   "execution_count": null,
   "metadata": {
    "id": "HSSPUo0atDbU"
   },
   "outputs": [],
   "source": [
    "# def primeChecker(num):\n",
    "#   if num<2:\n",
    "#     return False\n",
    "#   for i in range(2,int(num**0.5)+1):\n",
    "#     if num%i==0:\n",
    "#       return False\n",
    "#   return True"
   ]
  },
  {
   "cell_type": "code",
   "execution_count": null,
   "metadata": {
    "id": "QFH-WCXxshLO"
   },
   "outputs": [],
   "source": [
    "# def checker(start,end):\n",
    "#   primes = []\n",
    "#   for i in range(start+1,end):\n",
    "#     if (primeChecker(i)==True):\n",
    "#       primes.append(i)\n",
    "\n",
    "#   return primes"
   ]
  },
  {
   "cell_type": "code",
   "execution_count": null,
   "metadata": {
    "executionInfo": {
     "elapsed": 3,
     "status": "ok",
     "timestamp": 1735821779940,
     "user": {
      "displayName": "ASHUTOSH KUMAR JHA",
      "userId": "14055126307350193818"
     },
     "user_tz": -330
    },
    "id": "i0gZR-0_vrSE"
   },
   "outputs": [],
   "source": [
    "def isPrime(num):\n",
    "        if num <= 1:\n",
    "            return False\n",
    "        if num <= 3:\n",
    "            return True\n",
    "        if num % 2 == 0 or num % 3 == 0:\n",
    "            return False\n",
    "        i = 5\n",
    "        while i * i <= num:\n",
    "            if num % i == 0 or num % (i + 2) == 0:\n",
    "                return False\n",
    "            i += 6\n",
    "        return True\n"
   ]
  },
  {
   "cell_type": "code",
   "execution_count": 18,
   "metadata": {
    "executionInfo": {
     "elapsed": 599,
     "status": "ok",
     "timestamp": 1735821782429,
     "user": {
      "displayName": "ASHUTOSH KUMAR JHA",
      "userId": "14055126307350193818"
     },
     "user_tz": -330
    },
    "id": "bXY5EVsvxYyn"
   },
   "outputs": [],
   "source": [
    "def generatePrimes(start, end):\n",
    "    primes = []\n",
    "    for num in range(max(2, start), end + 1):\n",
    "        if isPrime(num):\n",
    "            primes.append(num)\n",
    "\n",
    "    return primes"
   ]
  },
  {
   "cell_type": "code",
   "execution_count": 19,
   "metadata": {
    "colab": {
     "base_uri": "https://localhost:8080/"
    },
    "executionInfo": {
     "elapsed": 4562,
     "status": "ok",
     "timestamp": 1735821792152,
     "user": {
      "displayName": "ASHUTOSH KUMAR JHA",
      "userId": "14055126307350193818"
     },
     "user_tz": -330
    },
    "id": "Nd0ic9f5lBnA",
    "outputId": "b8466c8b-707b-421f-f1cb-9d46759e3617"
   },
   "outputs": [
    {
     "name": "stdout",
     "output_type": "stream",
     "text": [
      "Enter the starting number: 11\n",
      "Enter the ending number: 67\n",
      "[11, 13, 17, 19, 23, 29, 31, 37, 41, 43, 47, 53, 59, 61, 67]\n"
     ]
    }
   ],
   "source": [
    "if __name__==\"__main__\":\n",
    "    start = int (input(\"Enter the starting number: \"))\n",
    "    end = int(input(\"Enter the ending number: \"))\n",
    "    primes = generatePrimes(start, end)\n",
    "    print(primes)\n",
    "\n"
   ]
  },
  {
   "cell_type": "markdown",
   "metadata": {
    "id": "jVHXARdHyC_Y"
   },
   "source": [
    "## Question 2\n",
    "\n",
    "Print the fibonacci sequence till the ratio of the previous to the next term converges to a particular ratio"
   ]
  },
  {
   "cell_type": "code",
   "execution_count": 2,
   "metadata": {
    "executionInfo": {
     "elapsed": 401,
     "status": "ok",
     "timestamp": 1735822635106,
     "user": {
      "displayName": "ASHUTOSH KUMAR JHA",
      "userId": "14055126307350193818"
     },
     "user_tz": -330
    },
    "id": "4-lpQUHJyWL4"
   },
   "outputs": [],
   "source": [
    "def sequenceGenerator(threshold,ratio):\n",
    "  seq = [0,1]\n",
    "  while True:\n",
    "    newTerm = seq[-1]+seq[-2]\n",
    "    seq.append(newTerm)\n",
    "    ratioComputed = seq[-2]/seq[-1]\n",
    "    if abs((ratioComputed-ratio))<threshold:\n",
    "      break\n",
    "  return seq\n",
    "\n"
   ]
  },
  {
   "cell_type": "code",
   "execution_count": null,
   "metadata": {
    "id": "6tfkHWsi3MEW"
   },
   "outputs": [],
   "source": [
    "if __name__==\"__main__\":\n",
    "  fib = sequenceGenerator(1e-6,1.618)\n",
    "  print(fib)"
   ]
  }
 ],
 "metadata": {
  "accelerator": "GPU",
  "colab": {
   "authorship_tag": "ABX9TyOU1EIBndvTjqxo0g943Uzz",
   "gpuType": "T4",
   "provenance": []
  },
  "kernelspec": {
   "display_name": "Python 3",
   "name": "python3"
  },
  "language_info": {
   "name": "python"
  }
 },
 "nbformat": 4,
 "nbformat_minor": 0
}
